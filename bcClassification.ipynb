{
 "cells": [
  {
   "cell_type": "code",
   "execution_count": 2,
   "metadata": {
    "scrolled": true
   },
   "outputs": [
    {
     "name": "stdout",
     "output_type": "stream",
     "text": [
      "<class 'pandas.core.frame.DataFrame'>\n",
      "RangeIndex: 699 entries, 0 to 698\n",
      "Data columns (total 11 columns):\n",
      "Sample Code #                   699 non-null int64\n",
      "Clump Thickness                 699 non-null int64\n",
      "Uniformity of Cell Size         699 non-null int64\n",
      "Uniformity of Cell Shape        699 non-null int64\n",
      "Marginal Adhesion               699 non-null int64\n",
      "Single Epithelial Cell Size     699 non-null int64\n",
      "Bare Nuclei                     699 non-null object\n",
      "Bland Chromatin                 699 non-null int64\n",
      "Normal Nucleoli                 699 non-null int64\n",
      "Mitoses                         699 non-null int64\n",
      "Class - 2=Benign 4=Malignant    699 non-null int64\n",
      "dtypes: int64(10), object(1)\n",
      "memory usage: 60.1+ KB\n"
     ]
    }
   ],
   "source": [
    "# Read and display breast cancer data set\n",
    "\n",
    "import pandas as pd\n",
    "\n",
    "colNames = ['Sample Code #', 'Clump Thickness', 'Uniformity of Cell Size',\n",
    "            'Uniformity of Cell Shape', 'Marginal Adhesion', \n",
    "            'Single Epithelial Cell Size', 'Bare Nuclei', 'Bland Chromatin',\n",
    "            'Normal Nucleoli', 'Mitoses', 'Class - 2=Benign 4=Malignant']\n",
    "\n",
    "data = pd.read_csv('data/breast-cancer-wisconsin.data', header=None, names=colNames)\n",
    "\n",
    "data\n",
    "data.info()"
   ]
  },
  {
   "cell_type": "code",
   "execution_count": 1,
   "metadata": {},
   "outputs": [
    {
     "ename": "NameError",
     "evalue": "name 'data' is not defined",
     "output_type": "error",
     "traceback": [
      "\u001b[0;31m---------------------------------------------------------------------------\u001b[0m",
      "\u001b[0;31mNameError\u001b[0m                                 Traceback (most recent call last)",
      "\u001b[0;32m<ipython-input-1-6208d269f320>\u001b[0m in \u001b[0;36m<module>\u001b[0;34m\u001b[0m\n\u001b[0;32m----> 1\u001b[0;31m \u001b[0mdata\u001b[0m\u001b[0;34m.\u001b[0m\u001b[0minfo\u001b[0m\u001b[0;34m(\u001b[0m\u001b[0;34m)\u001b[0m\u001b[0;34m\u001b[0m\u001b[0;34m\u001b[0m\u001b[0m\n\u001b[0m",
      "\u001b[0;31mNameError\u001b[0m: name 'data' is not defined"
     ]
    }
   ],
   "source": []
  },
  {
   "cell_type": "code",
   "execution_count": null,
   "metadata": {},
   "outputs": [],
   "source": []
  }
 ],
 "metadata": {
  "kernelspec": {
   "display_name": "Python 3",
   "language": "python",
   "name": "python3"
  },
  "language_info": {
   "codemirror_mode": {
    "name": "ipython",
    "version": 3
   },
   "file_extension": ".py",
   "mimetype": "text/x-python",
   "name": "python",
   "nbconvert_exporter": "python",
   "pygments_lexer": "ipython3",
   "version": "3.7.3"
  }
 },
 "nbformat": 4,
 "nbformat_minor": 2
}
